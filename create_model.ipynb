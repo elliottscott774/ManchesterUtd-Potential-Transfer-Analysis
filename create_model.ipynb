{
 "cells": [
  {
   "cell_type": "code",
   "execution_count": 133,
   "metadata": {},
   "outputs": [],
   "source": [
    "import pandas as pd\n"
   ]
  },
  {
   "cell_type": "code",
   "execution_count": 134,
   "metadata": {},
   "outputs": [],
   "source": [
    "squad_and_performance = pd.read_csv('./data/squad_and_performance.csv')\n",
    "squad_history = pd.read_csv('./data/squad_history.csv')\n",
    "\n",
    "# Drop rows with NaN values and assign the result back\n",
    "squad_and_performance = squad_and_performance.dropna()\n"
   ]
  },
  {
   "cell_type": "code",
   "execution_count": 159,
   "metadata": {},
   "outputs": [
    {
     "data": {
      "text/plain": [
       "Index(['Unnamed: 0', 'squad_id', 'season', 'club_id', 'player_id_1',\n",
       "       'player_id_2', 'player_id_3', 'player_id_4', 'player_id_5',\n",
       "       'player_id_6', 'player_id_7', 'player_id_8', 'player_id_9',\n",
       "       'player_id_10', 'player_id_11', 'player_id_12', 'player_id_13',\n",
       "       'player_id_14', 'player_id_15', 'player_id_16', 'player_id_17',\n",
       "       'player_id_18', 'player_id_19', 'age_1', 'age_2', 'age_3', 'age_4',\n",
       "       'age_5', 'age_6', 'age_7', 'age_8', 'age_9', 'age_10', 'age_11',\n",
       "       'age_12', 'age_13', 'age_14', 'age_15', 'age_16', 'age_17', 'age_18',\n",
       "       'age_19', 'league_code', 'wins', 'draws', 'loss', 'goals_scored',\n",
       "       'goals_conceded', 'clean_sheets', 'points', 'total_games', 'win_rate',\n",
       "       'loss_rate', 'goal_difference', 'avg_goals_scored_per_game',\n",
       "       'avg_goals_conceded_per_game', 'clean_sheet_rate',\n",
       "       'goals_scored_per_win', 'goals_conceded_per_loss'],\n",
       "      dtype='object')"
      ]
     },
     "execution_count": 159,
     "metadata": {},
     "output_type": "execute_result"
    }
   ],
   "source": [
    "squad_and_performance.columns"
   ]
  },
  {
   "cell_type": "code",
   "execution_count": 136,
   "metadata": {},
   "outputs": [],
   "source": [
    "from sklearn.model_selection import train_test_split"
   ]
  },
  {
   "cell_type": "code",
   "execution_count": 148,
   "metadata": {},
   "outputs": [],
   "source": [
    "squad_and_performance = squad_and_performance.sort_values(by='season')\n"
   ]
  },
  {
   "cell_type": "code",
   "execution_count": 149,
   "metadata": {},
   "outputs": [],
   "source": [
    "df_train = squad_and_performance.iloc[:int(0.8*len(squad_and_performance))]\n",
    "df_test = squad_and_performance.iloc[int(0.8*len(squad_and_performance)):]\n"
   ]
  },
  {
   "cell_type": "code",
   "execution_count": 150,
   "metadata": {},
   "outputs": [],
   "source": [
    "from sklearn.linear_model import LinearRegression\n",
    "from sklearn.metrics import mean_absolute_error\n",
    "from sklearn.tree import DecisionTreeRegressor\n",
    "from sklearn.linear_model import PoissonRegressor\n",
    "from sklearn.metrics import r2_score"
   ]
  },
  {
   "cell_type": "code",
   "execution_count": 151,
   "metadata": {},
   "outputs": [],
   "source": [
    "# only numeric features\n",
    "features = ['season', 'player_id_1',\n",
    "       'player_id_2', 'player_id_3', 'player_id_4', 'player_id_5',\n",
    "       'player_id_6', 'player_id_7', 'player_id_8', 'player_id_9',\n",
    "       'player_id_10', 'player_id_11', 'player_id_12', 'player_id_13',\n",
    "       'player_id_14', 'player_id_15', 'player_id_16', 'player_id_17',\n",
    "       'player_id_18', 'player_id_19', 'age_1', 'age_2', 'age_3', 'age_4',\n",
    "       'age_5', 'age_6', 'age_7', 'age_8', 'age_9', 'age_10', 'age_11',\n",
    "       'age_12', 'age_13', 'age_14', 'age_15', 'age_16', 'age_17', 'age_18',\n",
    "       'age_19', 'league_code']\n",
    "\n",
    "X = df_train[features]\n",
    "y = df_train['wins']"
   ]
  },
  {
   "cell_type": "code",
   "execution_count": 152,
   "metadata": {},
   "outputs": [
    {
     "name": "stderr",
     "output_type": "stream",
     "text": [
      "c:\\Users\\ellio\\miniconda3\\envs\\streamlit\\lib\\site-packages\\sklearn\\linear_model\\_glm\\glm.py:285: ConvergenceWarning: lbfgs failed to converge (status=1):\n",
      "STOP: TOTAL NO. of ITERATIONS REACHED LIMIT.\n",
      "\n",
      "Increase the number of iterations (max_iter) or scale the data as shown in:\n",
      "    https://scikit-learn.org/stable/modules/preprocessing.html\n",
      "  self.n_iter_ = _check_optimize_result(\"lbfgs\", opt_res)\n"
     ]
    }
   ],
   "source": [
    "lm_0 = LinearRegression()\n",
    "lm_0.fit(X, y)\n",
    "y0_pred = lm_0.predict(X)\n",
    "\n",
    "lm_1 = PoissonRegressor(max_iter=500)\n",
    "lm_1.fit(X, y)\n",
    "y1_pred = lm_1.predict(X)\n",
    "\n",
    "dt_0 = DecisionTreeRegressor()\n",
    "dt_0.fit(X, y)\n",
    "y3_pred = dt_0.predict(X)\n"
   ]
  },
  {
   "cell_type": "code",
   "execution_count": 153,
   "metadata": {},
   "outputs": [
    {
     "name": "stdout",
     "output_type": "stream",
     "text": [
      "5.917222197022704\n",
      "6.124220717421332\n",
      "0.0\n"
     ]
    }
   ],
   "source": [
    "print(mean_absolute_error(y, y0_pred))\n",
    "print(mean_absolute_error(y, y1_pred))\n",
    "print(mean_absolute_error(y, y3_pred))"
   ]
  },
  {
   "cell_type": "code",
   "execution_count": 154,
   "metadata": {},
   "outputs": [
    {
     "name": "stdout",
     "output_type": "stream",
     "text": [
      "0.1430363206399652\n",
      "0.09492502220432353\n",
      "1.0\n"
     ]
    }
   ],
   "source": [
    "print(lm_0.score(X, y))\n",
    "print(lm_1.score(X, y))\n",
    "print(dt_0.score(X, y))\n"
   ]
  },
  {
   "cell_type": "code",
   "execution_count": 155,
   "metadata": {},
   "outputs": [],
   "source": [
    "y = df_train['win_rate']"
   ]
  },
  {
   "cell_type": "code",
   "execution_count": 156,
   "metadata": {},
   "outputs": [],
   "source": [
    "lm_0 = LinearRegression()\n",
    "lm_0.fit(X, y)\n",
    "y0_pred = lm_0.predict(X)\n",
    "\n",
    "dt_0 = DecisionTreeRegressor()\n",
    "dt_0.fit(X, y)\n",
    "y3_pred = dt_0.predict(X)"
   ]
  },
  {
   "cell_type": "code",
   "execution_count": 157,
   "metadata": {},
   "outputs": [
    {
     "name": "stdout",
     "output_type": "stream",
     "text": [
      "0.11245890314056399\n",
      "7.960490138325693e-20\n"
     ]
    }
   ],
   "source": [
    "print(mean_absolute_error(y, y0_pred))\n",
    "print(mean_absolute_error(y, y3_pred))"
   ]
  },
  {
   "cell_type": "code",
   "execution_count": 158,
   "metadata": {},
   "outputs": [
    {
     "name": "stdout",
     "output_type": "stream",
     "text": [
      "0.11412640065113144\n",
      "1.0\n"
     ]
    }
   ],
   "source": [
    "print(lm_0.score(X, y))\n",
    "print(dt_0.score(X, y))"
   ]
  },
  {
   "cell_type": "code",
   "execution_count": null,
   "metadata": {},
   "outputs": [],
   "source": [
    "\n"
   ]
  }
 ],
 "metadata": {
  "kernelspec": {
   "display_name": "streamlit",
   "language": "python",
   "name": "python3"
  },
  "language_info": {
   "codemirror_mode": {
    "name": "ipython",
    "version": 3
   },
   "file_extension": ".py",
   "mimetype": "text/x-python",
   "name": "python",
   "nbconvert_exporter": "python",
   "pygments_lexer": "ipython3",
   "version": "3.10.13"
  }
 },
 "nbformat": 4,
 "nbformat_minor": 2
}
